{
  "nbformat": 4,
  "nbformat_minor": 0,
  "metadata": {
    "colab": {
      "name": "SIR-model.ipynb",
      "provenance": [],
      "collapsed_sections": [],
      "authorship_tag": "ABX9TyPaGlLztFJal7PSTN/UIf6s",
      "include_colab_link": true
    },
    "kernelspec": {
      "name": "python3",
      "display_name": "Python 3"
    }
  },
  "cells": [
    {
      "cell_type": "markdown",
      "metadata": {
        "id": "view-in-github",
        "colab_type": "text"
      },
      "source": [
        "<a href=\"https://colab.research.google.com/github/AngelARVM/Python/blob/master/Modelos-Epidemiologicos/SIR_model.ipynb\" target=\"_parent\"><img src=\"https://colab.research.google.com/assets/colab-badge.svg\" alt=\"Open In Colab\"/></a>"
      ]
    },
    {
      "cell_type": "markdown",
      "metadata": {
        "id": "tae4nES5r1Lc",
        "colab_type": "text"
      },
      "source": [
        "# **Teórico**"
      ]
    },
    {
      "cell_type": "markdown",
      "metadata": {
        "id": "1cBe_MtYrg7o",
        "colab_type": "text"
      },
      "source": [
        "![image](https://user-images.githubusercontent.com/56122751/90855426-f62b9c80-e355-11ea-8ca3-1a2c1075a6e9.png)"
      ]
    },
    {
      "cell_type": "markdown",
      "metadata": {
        "id": "brtVESOmr8ji",
        "colab_type": "text"
      },
      "source": [
        "# **Código: gamma14, period180**"
      ]
    },
    {
      "cell_type": "code",
      "metadata": {
        "id": "cGDDmZgNrxNL",
        "colab_type": "code",
        "colab": {}
      },
      "source": [
        "import numpy as np\n",
        "import matplotlib as plt"
      ],
      "execution_count": 322,
      "outputs": []
    },
    {
      "cell_type": "code",
      "metadata": {
        "id": "quX3fX5Arn_A",
        "colab_type": "code",
        "colab": {}
      },
      "source": [
        "beta, mu, gamma = 0.02, 0, 1/(14*24)\n",
        "N = 44555666\n",
        "S = 44555665\n",
        "I = 1\n",
        "R = 0"
      ],
      "execution_count": 323,
      "outputs": []
    },
    {
      "cell_type": "code",
      "metadata": {
        "id": "TrfA_XdH7PS_",
        "colab_type": "code",
        "colab": {}
      },
      "source": [
        "periodo = np.array(list(range(0,180)))\n",
        "datos_S = np.zeros(180)\n",
        "datos_I = np.zeros(180)\n",
        "datos_R = np.zeros(180)\n",
        "\n"
      ],
      "execution_count": 324,
      "outputs": []
    },
    {
      "cell_type": "code",
      "metadata": {
        "id": "2bxMqfclzhw1",
        "colab_type": "code",
        "colab": {}
      },
      "source": [
        "def dsdt():\n",
        "  global S\n",
        "  S+= (-beta*S*(I/N))"
      ],
      "execution_count": 325,
      "outputs": []
    },
    {
      "cell_type": "code",
      "metadata": {
        "id": "_J0f6PHN4RRd",
        "colab_type": "code",
        "colab": {}
      },
      "source": [
        "def didt():\n",
        "  global I\n",
        "  I += (beta*S*(I/N)-gamma*I)"
      ],
      "execution_count": 326,
      "outputs": []
    },
    {
      "cell_type": "code",
      "metadata": {
        "id": "uhGY_PYA4-me",
        "colab_type": "code",
        "colab": {}
      },
      "source": [
        "def drdt():\n",
        "  global R\n",
        "  R += (gamma*I)"
      ],
      "execution_count": 327,
      "outputs": []
    },
    {
      "cell_type": "code",
      "metadata": {
        "id": "2iG5eLhD7FsX",
        "colab_type": "code",
        "colab": {}
      },
      "source": [
        "for i in periodo:\n",
        "  for j in range (0,24):\n",
        "    dsdt()\n",
        "    didt()\n",
        "    drdt()\n",
        "    \n",
        "  datos_S[i] = round(S)\n",
        "  datos_I[i] = round(I)\n",
        "  datos_R[i] = round(R)"
      ],
      "execution_count": 328,
      "outputs": []
    },
    {
      "cell_type": "code",
      "metadata": {
        "id": "1e5Y6JNcH7Zr",
        "colab_type": "code",
        "colab": {
          "base_uri": "https://localhost:8080/",
          "height": 293
        },
        "outputId": "86bcaaca-12ae-4af3-c521-260162f8a8ca"
      },
      "source": [
        "plt.pyplot.plot(periodo,datos_S)\n"
      ],
      "execution_count": 329,
      "outputs": [
        {
          "output_type": "execute_result",
          "data": {
            "text/plain": [
              "[<matplotlib.lines.Line2D at 0x7fbbbc6b0e80>]"
            ]
          },
          "metadata": {
            "tags": []
          },
          "execution_count": 329
        },
        {
          "output_type": "display_data",
          "data": {
            "image/png": "[encoded data removed]",
            "text/plain": [
              "<Figure size 432x288 with 1 Axes>"
            ]
          },
          "metadata": {
            "tags": [],
            "needs_background": "light"
          }
        }
      ]
    },
    {
      "cell_type": "code",
      "metadata": {
        "id": "8I7IU_wwITIa",
        "colab_type": "code",
        "colab": {
          "base_uri": "https://localhost:8080/",
          "height": 293
        },
        "outputId": "43846c7d-ca71-40a0-b74e-0cf3a2b1f7e0"
      },
      "source": [
        "plt.pyplot.plot(periodo,datos_I)"
      ],
      "execution_count": 330,
      "outputs": [
        {
          "output_type": "execute_result",
          "data": {
            "text/plain": [
              "[<matplotlib.lines.Line2D at 0x7fbbbc6926d8>]"
            ]
          },
          "metadata": {
            "tags": []
          },
          "execution_count": 330
        },
        {
          "output_type": "display_data",
          "data": {
            "image/png": "[encoded data removed]",
            "text/plain": [
              "<Figure size 432x288 with 1 Axes>"
            ]
          },
          "metadata": {
            "tags": [],
            "needs_background": "light"
          }
        }
      ]
    },
    {
      "cell_type": "code",
      "metadata": {
        "id": "WHsRtryLIdqq",
        "colab_type": "code",
        "colab": {
          "base_uri": "https://localhost:8080/",
          "height": 293
        },
        "outputId": "80c0153f-b654-4c7d-e203-54732124f010"
      },
      "source": [
        "plt.pyplot.plot(periodo,datos_R)"
      ],
      "execution_count": 331,
      "outputs": [
        {
          "output_type": "execute_result",
          "data": {
            "text/plain": [
              "[<matplotlib.lines.Line2D at 0x7fbbbc5f76d8>]"
            ]
          },
          "metadata": {
            "tags": []
          },
          "execution_count": 331
        },
        {
          "output_type": "display_data",
          "data": {
            "image/png": "[encoded data removed]",
            "text/plain": [
              "<Figure size 432x288 with 1 Axes>"
            ]
          },
          "metadata": {
            "tags": [],
            "needs_background": "light"
          }
        }
      ]
    },
    {
      "cell_type": "markdown",
      "metadata": {
        "id": "xY74h4f3N12e",
        "colab_type": "text"
      },
      "source": [
        "# **Codigo: gamma7, period180**"
      ]
    },
    {
      "cell_type": "code",
      "metadata": {
        "id": "kPsunMcdIf4a",
        "colab_type": "code",
        "colab": {}
      },
      "source": [
        "import numpy as np\n",
        "import matplotlib as plt"
      ],
      "execution_count": 332,
      "outputs": []
    },
    {
      "cell_type": "code",
      "metadata": {
        "id": "7NkLG_HbOECb",
        "colab_type": "code",
        "colab": {}
      },
      "source": [
        "beta, mu, gamma = 0.02, 0, 1/(7*24)\n",
        "N = 44555666\n",
        "S = 44555665\n",
        "I = 1\n",
        "R = 0"
      ],
      "execution_count": 333,
      "outputs": []
    },
    {
      "cell_type": "code",
      "metadata": {
        "id": "DUM6qU8kOEzT",
        "colab_type": "code",
        "colab": {}
      },
      "source": [
        "periodo = np.array(list(range(0,180)))\n",
        "datos_S = np.zeros(180)\n",
        "datos_I = np.zeros(180)\n",
        "datos_R = np.zeros(180)"
      ],
      "execution_count": 334,
      "outputs": []
    },
    {
      "cell_type": "code",
      "metadata": {
        "id": "FLM2Ez8POFcT",
        "colab_type": "code",
        "colab": {}
      },
      "source": [
        "def dsdt():\n",
        "  global S\n",
        "  S+= (-beta*S*(I/N))\n",
        "\n",
        "def didt():\n",
        "  global I\n",
        "  I += (beta*S*(I/N)-gamma*I)\n",
        "\n",
        "def drdt():\n",
        "  global R\n",
        "  R += (gamma*I)\n"
      ],
      "execution_count": 335,
      "outputs": []
    },
    {
      "cell_type": "code",
      "metadata": {
        "id": "qyiSsnoNOGIL",
        "colab_type": "code",
        "colab": {}
      },
      "source": [
        "for i in periodo:\n",
        "  for j in range (0,24):\n",
        "    dsdt()\n",
        "    didt()\n",
        "    drdt()\n",
        "    \n",
        "  datos_S[i] = round(S)\n",
        "  datos_I[i] = round(I)\n",
        "  datos_R[i] = round(R)"
      ],
      "execution_count": 336,
      "outputs": []
    },
    {
      "cell_type": "code",
      "metadata": {
        "id": "bGNLBCxLOF87",
        "colab_type": "code",
        "colab": {
          "base_uri": "https://localhost:8080/",
          "height": 293
        },
        "outputId": "22a9c915-6fe5-402b-bb3f-c31d683b87ad"
      },
      "source": [
        "plt.pyplot.plot(periodo,datos_S)"
      ],
      "execution_count": 337,
      "outputs": [
        {
          "output_type": "execute_result",
          "data": {
            "text/plain": [
              "[<matplotlib.lines.Line2D at 0x7fbbbc5e40f0>]"
            ]
          },
          "metadata": {
            "tags": []
          },
          "execution_count": 337
        },
        {
          "output_type": "display_data",
          "data": {
            "image/png": "[encoded data removed]",
            "text/plain": [
              "<Figure size 432x288 with 1 Axes>"
            ]
          },
          "metadata": {
            "tags": [],
            "needs_background": "light"
          }
        }
      ]
    },
    {
      "cell_type": "code",
      "metadata": {
        "id": "oASAytlaOFSb",
        "colab_type": "code",
        "colab": {
          "base_uri": "https://localhost:8080/",
          "height": 293
        },
        "outputId": "95279eaf-3f9e-420e-90de-d1234b2ba773"
      },
      "source": [
        "plt.pyplot.plot(periodo,datos_I)"
      ],
      "execution_count": 338,
      "outputs": [
        {
          "output_type": "execute_result",
          "data": {
            "text/plain": [
              "[<matplotlib.lines.Line2D at 0x7fbbbc53b908>]"
            ]
          },
          "metadata": {
            "tags": []
          },
          "execution_count": 338
        },
        {
          "output_type": "display_data",
          "data": {
            "image/png": "[encoded data removed]",
            "text/plain": [
              "<Figure size 432x288 with 1 Axes>"
            ]
          },
          "metadata": {
            "tags": [],
            "needs_background": "light"
          }
        }
      ]
    },
    {
      "cell_type": "code",
      "metadata": {
        "id": "OmXjnOLzOEkv",
        "colab_type": "code",
        "colab": {
          "base_uri": "https://localhost:8080/",
          "height": 293
        },
        "outputId": "d98a6833-0839-4db0-f9b1-796e811ea057"
      },
      "source": [
        "plt.pyplot.plot(periodo,datos_R)"
      ],
      "execution_count": 339,
      "outputs": [
        {
          "output_type": "execute_result",
          "data": {
            "text/plain": [
              "[<matplotlib.lines.Line2D at 0x7fbbbc4ad240>]"
            ]
          },
          "metadata": {
            "tags": []
          },
          "execution_count": 339
        },
        {
          "output_type": "display_data",
          "data": {
            "image/png": "[encoded data removed]",
            "text/plain": [
              "<Figure size 432x288 with 1 Axes>"
            ]
          },
          "metadata": {
            "tags": [],
            "needs_background": "light"
          }
        }
      ]
    },
    {
      "cell_type": "markdown",
      "metadata": {
        "id": "U4wHSZ0dR2IF",
        "colab_type": "text"
      },
      "source": [
        "# **Codigo: gamma14, period365**"
      ]
    },
    {
      "cell_type": "code",
      "metadata": {
        "id": "2JbElwaKOgOc",
        "colab_type": "code",
        "colab": {}
      },
      "source": [
        "import numpy as np\n",
        "import matplotlib as plt"
      ],
      "execution_count": 340,
      "outputs": []
    },
    {
      "cell_type": "code",
      "metadata": {
        "id": "h0iFWJDhR8Yz",
        "colab_type": "code",
        "colab": {}
      },
      "source": [
        "beta, mu, gamma = 0.02, 0, 1/(14*24)\n",
        "N = 44555666\n",
        "S = 44555665\n",
        "I = 1\n",
        "R = 0"
      ],
      "execution_count": 341,
      "outputs": []
    },
    {
      "cell_type": "code",
      "metadata": {
        "id": "bb695-SaSGU5",
        "colab_type": "code",
        "colab": {}
      },
      "source": [
        "periodo = np.array(list(range(0,365)))\n",
        "datos_S = np.zeros(365)\n",
        "datos_I = np.zeros(365)\n",
        "datos_R = np.zeros(365)"
      ],
      "execution_count": 342,
      "outputs": []
    },
    {
      "cell_type": "code",
      "metadata": {
        "id": "esaj2vbzSGST",
        "colab_type": "code",
        "colab": {}
      },
      "source": [
        "def dsdt():\n",
        "  global S\n",
        "  S+= (-beta*S*(I/N))\n",
        "\n",
        "def didt():\n",
        "  global I\n",
        "  I += (beta*S*(I/N)-gamma*I)\n",
        "\n",
        "def drdt():\n",
        "  global R\n",
        "  R += (gamma*I)"
      ],
      "execution_count": 343,
      "outputs": []
    },
    {
      "cell_type": "code",
      "metadata": {
        "id": "mj8uiwG6R8eS",
        "colab_type": "code",
        "colab": {}
      },
      "source": [
        "for i in periodo:\n",
        "  for j in range (0,24):\n",
        "    dsdt()\n",
        "    didt()\n",
        "    drdt()\n",
        "    \n",
        "  datos_S[i] = round(S)\n",
        "  datos_I[i] = round(I)\n",
        "  datos_R[i] = round(R)"
      ],
      "execution_count": 344,
      "outputs": []
    },
    {
      "cell_type": "code",
      "metadata": {
        "id": "J_m5V5EOR8bn",
        "colab_type": "code",
        "colab": {
          "base_uri": "https://localhost:8080/",
          "height": 293
        },
        "outputId": "8bc5a4c4-b717-4376-84c1-9a7956903e4a"
      },
      "source": [
        "plt.pyplot.plot(periodo,datos_S)"
      ],
      "execution_count": 345,
      "outputs": [
        {
          "output_type": "execute_result",
          "data": {
            "text/plain": [
              "[<matplotlib.lines.Line2D at 0x7fbbbc489860>]"
            ]
          },
          "metadata": {
            "tags": []
          },
          "execution_count": 345
        },
        {
          "output_type": "display_data",
          "data": {
            "image/png": "[encoded data removed]",
            "text/plain": [
              "<Figure size 432x288 with 1 Axes>"
            ]
          },
          "metadata": {
            "tags": [],
            "needs_background": "light"
          }
        }
      ]
    },
    {
      "cell_type": "code",
      "metadata": {
        "id": "DT_rA6apSWQT",
        "colab_type": "code",
        "colab": {
          "base_uri": "https://localhost:8080/",
          "height": 293
        },
        "outputId": "58598ce1-6256-4c62-d6ef-3f3ed4b2a363"
      },
      "source": [
        "plt.pyplot.plot(periodo,datos_I)"
      ],
      "execution_count": 346,
      "outputs": [
        {
          "output_type": "execute_result",
          "data": {
            "text/plain": [
              "[<matplotlib.lines.Line2D at 0x7fbbbc3e7b00>]"
            ]
          },
          "metadata": {
            "tags": []
          },
          "execution_count": 346
        },
        {
          "output_type": "display_data",
          "data": {
            "image/png": "[encoded data removed]",
            "text/plain": [
              "<Figure size 432x288 with 1 Axes>"
            ]
          },
          "metadata": {
            "tags": [],
            "needs_background": "light"
          }
        }
      ]
    },
    {
      "cell_type": "code",
      "metadata": {
        "id": "kU8-BqlOSWD9",
        "colab_type": "code",
        "colab": {
          "base_uri": "https://localhost:8080/",
          "height": 293
        },
        "outputId": "deb33553-f4c7-43a8-8ce6-b904f8547074"
      },
      "source": [
        "plt.pyplot.plot(periodo,datos_R)"
      ],
      "execution_count": 347,
      "outputs": [
        {
          "output_type": "execute_result",
          "data": {
            "text/plain": [
              "[<matplotlib.lines.Line2D at 0x7fbbbc3d12b0>]"
            ]
          },
          "metadata": {
            "tags": []
          },
          "execution_count": 347
        },
        {
          "output_type": "display_data",
          "data": {
            "image/png": "[encoded data removed]",
            "text/plain": [
              "<Figure size 432x288 with 1 Axes>"
            ]
          },
          "metadata": {
            "tags": [],
            "needs_background": "light"
          }
        }
      ]
    },
    {
      "cell_type": "markdown",
      "metadata": {
        "id": "y_JvmCmwV4V8",
        "colab_type": "text"
      },
      "source": [
        "# **Codigo: gamma7, period365**"
      ]
    },
    {
      "cell_type": "code",
      "metadata": {
        "id": "BAVoaVtMR8Kj",
        "colab_type": "code",
        "colab": {}
      },
      "source": [
        "import numpy as np\n",
        "import matplotlib as plt"
      ],
      "execution_count": 348,
      "outputs": []
    },
    {
      "cell_type": "code",
      "metadata": {
        "id": "Ldb4tsVwSE5E",
        "colab_type": "code",
        "colab": {}
      },
      "source": [
        "beta, mu, gamma = 0.02, 0, 1/(7*24)\n",
        "N = 44555666\n",
        "S = 44555665\n",
        "I = 1\n",
        "R = 0"
      ],
      "execution_count": 349,
      "outputs": []
    },
    {
      "cell_type": "code",
      "metadata": {
        "id": "R20sNIHBSE96",
        "colab_type": "code",
        "colab": {}
      },
      "source": [
        "periodo = np.array(list(range(0,365)))\n",
        "datos_S = np.zeros(365)\n",
        "datos_I = np.zeros(365)\n",
        "datos_R = np.zeros(365)"
      ],
      "execution_count": 350,
      "outputs": []
    },
    {
      "cell_type": "code",
      "metadata": {
        "id": "4RvTP55PSFtO",
        "colab_type": "code",
        "colab": {}
      },
      "source": [
        "def dsdt():\n",
        "  global S\n",
        "  S+= (-beta*S*(I/N))\n",
        "\n",
        "def didt():\n",
        "  global I\n",
        "  I += (beta*S*(I/N)-gamma*I)\n",
        "\n",
        "def drdt():\n",
        "  global R\n",
        "  R += (gamma*I)"
      ],
      "execution_count": 351,
      "outputs": []
    },
    {
      "cell_type": "code",
      "metadata": {
        "id": "rKdiSAX0SFqV",
        "colab_type": "code",
        "colab": {}
      },
      "source": [
        "for i in periodo:\n",
        "  for j in range (0,24):\n",
        "    dsdt()\n",
        "    didt()\n",
        "    drdt()\n",
        "    \n",
        "  datos_S[i] = round(S)\n",
        "  datos_I[i] = round(I)\n",
        "  datos_R[i] = round(R)"
      ],
      "execution_count": 352,
      "outputs": []
    },
    {
      "cell_type": "code",
      "metadata": {
        "id": "ji0HcpwFSE71",
        "colab_type": "code",
        "colab": {
          "base_uri": "https://localhost:8080/",
          "height": 293
        },
        "outputId": "ef6111fc-ff96-4296-f0cb-b236a571ec0e"
      },
      "source": [
        "plt.pyplot.plot(periodo,datos_S)"
      ],
      "execution_count": 353,
      "outputs": [
        {
          "output_type": "execute_result",
          "data": {
            "text/plain": [
              "[<matplotlib.lines.Line2D at 0x7fbbbc32f978>]"
            ]
          },
          "metadata": {
            "tags": []
          },
          "execution_count": 353
        },
        {
          "output_type": "display_data",
          "data": {
            "image/png": "[encoded data removed]",
            "text/plain": [
              "<Figure size 432x288 with 1 Axes>"
            ]
          },
          "metadata": {
            "tags": [],
            "needs_background": "light"
          }
        }
      ]
    },
    {
      "cell_type": "code",
      "metadata": {
        "id": "JISzAUVRSEis",
        "colab_type": "code",
        "colab": {
          "base_uri": "https://localhost:8080/",
          "height": 293
        },
        "outputId": "293c6fa3-74e3-42ab-b9ff-db3751264234"
      },
      "source": [
        "plt.pyplot.plot(periodo,datos_I)"
      ],
      "execution_count": 354,
      "outputs": [
        {
          "output_type": "execute_result",
          "data": {
            "text/plain": [
              "[<matplotlib.lines.Line2D at 0x7fbbbc30dc18>]"
            ]
          },
          "metadata": {
            "tags": []
          },
          "execution_count": 354
        },
        {
          "output_type": "display_data",
          "data": {
            "image/png": "[encoded data removed]",
            "text/plain": [
              "<Figure size 432x288 with 1 Axes>"
            ]
          },
          "metadata": {
            "tags": [],
            "needs_background": "light"
          }
        }
      ]
    },
    {
      "cell_type": "code",
      "metadata": {
        "id": "am_eNpPlSYAc",
        "colab_type": "code",
        "colab": {
          "base_uri": "https://localhost:8080/",
          "height": 293
        },
        "outputId": "feb37066-ae68-42ca-ad92-43f6b7b52ab6"
      },
      "source": [
        "plt.pyplot.plot(periodo,datos_R)"
      ],
      "execution_count": 355,
      "outputs": [
        {
          "output_type": "execute_result",
          "data": {
            "text/plain": [
              "[<matplotlib.lines.Line2D at 0x7fbbbc277ef0>]"
            ]
          },
          "metadata": {
            "tags": []
          },
          "execution_count": 355
        },
        {
          "output_type": "display_data",
          "data": {
            "image/png": "[encoded data removed]",
            "text/plain": [
              "<Figure size 432x288 with 1 Axes>"
            ]
          },
          "metadata": {
            "tags": [],
            "needs_background": "light"
          }
        }
      ]
    },
    {
      "cell_type": "code",
      "metadata": {
        "id": "JfeXhrc6V_0E",
        "colab_type": "code",
        "colab": {}
      },
      "source": [
        ""
      ],
      "execution_count": 355,
      "outputs": []
    },
    {
      "cell_type": "markdown",
      "metadata": {
        "colab_type": "text",
        "id": "D-OWulwiWHwv"
      },
      "source": [
        "# **Codigo: beta4, gamma7, period365**"
      ]
    },
    {
      "cell_type": "code",
      "metadata": {
        "colab_type": "code",
        "id": "WbHaPUMeWHwx",
        "colab": {}
      },
      "source": [
        "import numpy as np\n",
        "import matplotlib as plt"
      ],
      "execution_count": 356,
      "outputs": []
    },
    {
      "cell_type": "code",
      "metadata": {
        "colab_type": "code",
        "id": "Ks3A-Ns9WHwz",
        "colab": {}
      },
      "source": [
        "beta, mu, gamma = 0.04, 0, 1/(7*24)\n",
        "N = 44555666\n",
        "S = 44555665\n",
        "I = 1\n",
        "R = 0"
      ],
      "execution_count": 357,
      "outputs": []
    },
    {
      "cell_type": "code",
      "metadata": {
        "colab_type": "code",
        "id": "c2hr4U45WHw1",
        "colab": {}
      },
      "source": [
        "periodo = np.array(list(range(0,365)))\n",
        "datos_S = np.zeros(365)\n",
        "datos_I = np.zeros(365)\n",
        "datos_R = np.zeros(365)"
      ],
      "execution_count": 358,
      "outputs": []
    },
    {
      "cell_type": "code",
      "metadata": {
        "colab_type": "code",
        "id": "bL4ImdQSWHw3",
        "colab": {}
      },
      "source": [
        "def dsdt():\n",
        "  global S\n",
        "  S+= (-beta*S*(I/N))\n",
        "\n",
        "def didt():\n",
        "  global I\n",
        "  I += (beta*S*(I/N)-gamma*I)\n",
        "\n",
        "def drdt():\n",
        "  global R\n",
        "  R += (gamma*I)"
      ],
      "execution_count": 359,
      "outputs": []
    },
    {
      "cell_type": "code",
      "metadata": {
        "colab_type": "code",
        "id": "W8wuac9FWHw5",
        "colab": {}
      },
      "source": [
        "for i in periodo:\n",
        "  for j in range (0,24):\n",
        "    dsdt()\n",
        "    didt()\n",
        "    drdt()\n",
        "   \n",
        "  datos_S[i] = round(S)\n",
        "  datos_I[i] = round(I)\n",
        "  datos_R[i] = round(R)"
      ],
      "execution_count": 360,
      "outputs": []
    },
    {
      "cell_type": "code",
      "metadata": {
        "colab_type": "code",
        "id": "yWIyyTujWHw7",
        "colab": {
          "base_uri": "https://localhost:8080/",
          "height": 293
        },
        "outputId": "51da5848-b062-4520-d0fe-f811b27b0fb6"
      },
      "source": [
        "plt.pyplot.plot(periodo,datos_S)"
      ],
      "execution_count": 361,
      "outputs": [
        {
          "output_type": "execute_result",
          "data": {
            "text/plain": [
              "[<matplotlib.lines.Line2D at 0x7fbbbc2643c8>]"
            ]
          },
          "metadata": {
            "tags": []
          },
          "execution_count": 361
        },
        {
          "output_type": "display_data",
          "data": {
            "image/png": "[encoded data removed]",
            "text/plain": [
              "<Figure size 432x288 with 1 Axes>"
            ]
          },
          "metadata": {
            "tags": [],
            "needs_background": "light"
          }
        }
      ]
    },
    {
      "cell_type": "code",
      "metadata": {
        "colab_type": "code",
        "id": "xZF2sGvJWHw-",
        "colab": {
          "base_uri": "https://localhost:8080/",
          "height": 293
        },
        "outputId": "a199eab8-33ad-47bc-e113-8eda72b1c0ee"
      },
      "source": [
        "plt.pyplot.plot(periodo,datos_I)"
      ],
      "execution_count": 362,
      "outputs": [
        {
          "output_type": "execute_result",
          "data": {
            "text/plain": [
              "[<matplotlib.lines.Line2D at 0x7fbbbc1c05c0>]"
            ]
          },
          "metadata": {
            "tags": []
          },
          "execution_count": 362
        },
        {
          "output_type": "display_data",
          "data": {
            "image/png": "[encoded data removed]",
            "text/plain": [
              "<Figure size 432x288 with 1 Axes>"
            ]
          },
          "metadata": {
            "tags": [],
            "needs_background": "light"
          }
        }
      ]
    },
    {
      "cell_type": "code",
      "metadata": {
        "colab_type": "code",
        "id": "OFwTLDdLWHxB",
        "colab": {
          "base_uri": "https://localhost:8080/",
          "height": 293
        },
        "outputId": "978438b8-1a90-4ae6-c58a-f8dc1e79943d"
      },
      "source": [
        "plt.pyplot.plot(periodo,datos_R)"
      ],
      "execution_count": 363,
      "outputs": [
        {
          "output_type": "execute_result",
          "data": {
            "text/plain": [
              "[<matplotlib.lines.Line2D at 0x7fbbbc19fe10>]"
            ]
          },
          "metadata": {
            "tags": []
          },
          "execution_count": 363
        },
        {
          "output_type": "display_data",
          "data": {
            "image/png": "[encoded data removed]",
            "text/plain": [
              "<Figure size 432x288 with 1 Axes>"
            ]
          },
          "metadata": {
            "tags": [],
            "needs_background": "light"
          }
        }
      ]
    },
    {
      "cell_type": "markdown",
      "metadata": {
        "id": "x3VHY6NfWYN2",
        "colab_type": "text"
      },
      "source": [
        "# **Observaciones y conclusión de los datos obtenidos por el modelo SIR**\n",
        "\n",
        "El modelo ***SIR*** evoluciona de forma similar para distintos valores de gamma y periodos de 6 y 12 meses. Por otra parte, existe una diferencia de al menos 2 semanas entre las fechas del pico de contagios para beta igual a 0.02 y beta igual 0.04.\n",
        "\n",
        "Mas alla de esta observación y bajo las condiciones iniciales dadas, los resultados obtenidos no son capaces de representar la evolucion real de la enfermedad por coronavirus de 2019"
      ]
    },
    {
      "cell_type": "code",
      "metadata": {
        "id": "E0WsmNrHa9_1",
        "colab_type": "code",
        "colab": {}
      },
      "source": [
        ""
      ],
      "execution_count": 363,
      "outputs": []
    }
  ]
}
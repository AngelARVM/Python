{
  "nbformat": 4,
  "nbformat_minor": 0,
  "metadata": {
    "colab": {
      "name": "torres-de-hanoi.ipynb",
      "provenance": [],
      "authorship_tag": "ABX9TyNycspGYz7UiLr6SlBbe6JV"
    },
    "kernelspec": {
      "name": "python3",
      "display_name": "Python 3"
    }
  },
  "cells": [
    {
      "cell_type": "markdown",
      "metadata": {
        "id": "omQg98XYZHm2",
        "colab_type": "text"
      },
      "source": [
        "**Torres de Hanoi**\n",
        "\n",
        "Cuenta la leyenda que en el gran templo de Benares existe una base de bronce de la que sobresalen tres varillas de diamante. \n",
        "En el momento de la creación, Dios coloco 64 discos de oro ensartados en la primera varilla, colocados de abajo arriba en orden de tamaño decreciente; esta es la torre de Brahma. Los sacerdotes están tratando de pasar la pila de la primera varilla a la segunda, sometidos a las leyes de Brahma que indican que solo se puede mover un disco a la vez, y que en ningún momento se puede colocar un disco mas grande sobre uno mas pequeño. Se cuenta con la tercera varilla para colocar los discos temporalmente. \n",
        "Cuando todos los discos hayan sido transferidos, la torre, los sacerdotes, el templo, y todo el mundo desaparecerá con un estruendo (Enunciado original del hoy conocido como problema de las torres de Hanoi).\n",
        "\n",
        "*Desarrolle un programa con un método recursivo que solucione el problema de las torres de Hanoi para un número arbitrario de discos. El programa debe imprimir la secuencia precisa de transferencia de los n discos de una varilla a otra.*\n",
        "\n"
      ]
    },
    {
      "cell_type": "code",
      "metadata": {
        "id": "vjKHvXdSMNtf",
        "colab_type": "code",
        "colab": {}
      },
      "source": [
        "def hanoi(n, torre_inicial=\"Torre inicial \", torre_final=\"Torre final   \", torre_auxiliar=\"Torre auxiliar\"):\n",
        "  if n== 1:\n",
        "    print (\"De \"+torre_inicial+\" a \" +torre_final)\n",
        "  else:\n",
        "    hanoi(n-1, torre_inicial, torre_auxiliar, torre_final)\n",
        "    print (\"De \"+torre_inicial+\" a \"+torre_final)\n",
        "    hanoi(n-1, torre_auxiliar, torre_final, torre_auxiliar)\n",
        "\n",
        "hanoi(int(input(\"inserte cantidad de discos:\")))"
      ],
      "execution_count": null,
      "outputs": []
    }
  ]
}